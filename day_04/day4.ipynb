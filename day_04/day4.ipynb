{
 "cells": [
  {
   "cell_type": "markdown",
   "id": "b8737a40",
   "metadata": {},
   "source": [
    "# Day 4"
   ]
  },
  {
   "cell_type": "code",
   "execution_count": null,
   "id": "6a253545",
   "metadata": {},
   "outputs": [],
   "source": [
    "import requests\n",
    "from bs4 import BeautifulSoup\n",
    "\n",
    "def get_aoc_problem(day, year=2023):\n",
    "    url = f\"https://adventofcode.com/{year}/day/{day}\"\n",
    "    try:\n",
    "        response = requests.get(url)\n",
    "        response.raise_for_status()  # raises an exception for HTTP errors\n",
    "\n",
    "        soup = BeautifulSoup(response.text, 'html.parser')\n",
    "        \n",
    "        problem_text = soup.find('article').get_text()\n",
    "        return problem_text\n",
    "    except Exception as e:\n",
    "        return f\"Error fetching problem: {e}\"\n",
    "\n",
    "day = 4\n",
    "problem_prompt = get_aoc_problem(day)\n",
    "print(problem_prompt)\n"
   ]
  },
  {
   "cell_type": "code",
   "execution_count": null,
   "id": "f7bb3c6f",
   "metadata": {},
   "outputs": [],
   "source": [
    "try:\n",
    "    # Open and read the file\n",
    "    with open('input.txt', 'r') as file:\n",
    "        lines = file.read().strip().split('\\n')\n",
    "\n",
    "    # Print each line\n",
    "    for line in lines:\n",
    "        print(line)\n",
    "\n",
    "except FileNotFoundError:\n",
    "    # Specific exception for a clearer error message\n",
    "    print('Input file not found.')\n",
    "\n",
    "except Exception as e:\n",
    "    # Catch other exceptions and print the error\n",
    "    print(f'An error occurred: {e}')"
   ]
  },
  {
   "cell_type": "markdown",
   "id": "8bb475c2",
   "metadata": {},
   "source": [
    "### Utility functions"
   ]
  },
  {
   "cell_type": "code",
   "execution_count": null,
   "id": "d3e67575",
   "metadata": {},
   "outputs": [],
   "source": [
    "def parse_line(line):\n",
    "    line = line.split('|')\n",
    "\n",
    "    print(line)\n",
    "    card_id = line[1].strip(':')\n",
    "\n",
    "\n",
    "    # card_id = line[1].strip(':')\n",
    "    # winning_cards = line[2:12]\n",
    "\n",
    "    # # assert line[12] == '|'\n",
    "    # print(f'line[12] = {line[12]}')\n",
    "\n",
    "    # cards_in_hand = line[13:]\n",
    "\n",
    "    # return card_id, winning_cards, cards_in_hand"
   ]
  },
  {
   "cell_type": "markdown",
   "id": "c592c09c",
   "metadata": {},
   "source": [
    "### Part 1"
   ]
  },
  {
   "cell_type": "code",
   "execution_count": null,
   "id": "39cc192e",
   "metadata": {},
   "outputs": [],
   "source": [
    "point_sum = 0\n",
    "\n",
    "for line in lines:\n",
    "    match_count = 0\n",
    "    card_id, winning_cards, cards_in_hand = parse_line(line)\n",
    "    # print(f'card id: {card_id}')\n",
    "    # print(f'winning cards: {winning_cards}')\n",
    "    # print(f'cards in hand: {cards_in_hand}')\n",
    "    \n",
    "    for card in cards_in_hand:\n",
    "        if card in winning_cards:\n",
    "            print(f'card {card} is in winning cards')\n",
    "            match_count += 1\n",
    "\n",
    "    if match_count > 0:\n",
    "        point_sum += 2**(match_count-1)\n",
    "\n",
    "    \n",
    "print(f'point sum: {point_sum}')\n",
    "\n"
   ]
  },
  {
   "cell_type": "markdown",
   "id": "b31d930d",
   "metadata": {},
   "source": [
    "### Part 2"
   ]
  },
  {
   "cell_type": "code",
   "execution_count": null,
   "id": "fbabeca6",
   "metadata": {},
   "outputs": [],
   "source": [
    "card_counts = {}\n",
    "\n",
    "for line in lines:\n",
    "\n",
    "    match_count = 0\n",
    "    card_id, winning_cards, cards_in_hand = parse_line(line)\n",
    "    # print(f'card id: {card_id}')\n",
    "    # print(f'winning cards: {winning_cards}')\n",
    "    # print(f'cards in hand: {cards_in_hand}')\n",
    "\n",
    "    if card_id in card_counts:\n",
    "        card_counts[card_id] += 1\n",
    "    else:\n",
    "        card_counts[card_id] = 1\n",
    "    \n",
    "    for card in cards_in_hand:\n",
    "        if card in winning_cards:\n",
    "            # print(f'card {card} is in winning cards')\n",
    "            match_count += 1\n",
    "\n",
    "    for count in range(card_counts[card_id]):\n",
    "        if match_count > 0:\n",
    "            for id_offset in range(1, match_count+1):\n",
    "                if card_id in card_counts:\n",
    "                    card_counts[card_id] += 1\n",
    "                else:\n",
    "                    card_counts[card_id] = 1\n",
    "    \n",
    "print(f'card_counts =  {card_counts}')\n",
    "\n"
   ]
  }
 ],
 "metadata": {
  "kernelspec": {
   "display_name": "Python 3 (ipykernel)",
   "language": "python",
   "name": "python3"
  },
  "language_info": {
   "codemirror_mode": {
    "name": "ipython",
    "version": 3
   },
   "file_extension": ".py",
   "mimetype": "text/x-python",
   "name": "python",
   "nbconvert_exporter": "python",
   "pygments_lexer": "ipython3",
   "version": "3.11.2"
  }
 },
 "nbformat": 4,
 "nbformat_minor": 5
}
