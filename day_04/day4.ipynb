{
 "cells": [
  {
   "cell_type": "markdown",
   "id": "b8737a40",
   "metadata": {},
   "source": [
    "# Day 4"
   ]
  },
  {
   "cell_type": "code",
   "execution_count": 18,
   "id": "6a253545",
   "metadata": {},
   "outputs": [
    {
     "name": "stdout",
     "output_type": "stream",
     "text": [
      "--- Day 4: Scratchcards ---The gondola takes you up. Strangely, though, the ground doesn't seem to be coming with you; you're not climbing a mountain. As the circle of Snow Island recedes below you, an entire new landmass suddenly appears above you! The gondola carries you to the surface of the new island and lurches into the station.\n",
      "As you exit the gondola, the first thing you notice is that the air here is much warmer than it was on Snow Island. It's also quite humid. Is this where the water source is?\n",
      "The next thing you notice is an Elf sitting on the floor across the station in what seems to be a pile of colorful square cards.\n",
      "\"Oh! Hello!\" The Elf excitedly runs over to you. \"How may I be of service?\" You ask about water sources.\n",
      "\"I'm not sure; I just operate the gondola lift. That does sound like something we'd have, though - this is Island Island, after all! I bet the gardener would know. He's on a different island, though - er, the small kind surrounded by water, not the floating kind. We really need to come up with a better naming scheme. Tell you what: if you can help me with something quick, I'll let you borrow my boat and you can go visit the gardener. I got all these scratchcards as a gift, but I can't figure out what I've won.\"\n",
      "The Elf leads you over to the pile of colorful cards. There, you discover dozens of scratchcards, all with their opaque covering already scratched off. Picking one up, it looks like each card has two lists of numbers separated by a vertical bar (|): a list of winning numbers and then a list of numbers you have. You organize the information into a table (your puzzle input).\n",
      "As far as the Elf has been able to figure out, you have to figure out which of the numbers you have appear in the list of winning numbers. The first match makes the card worth one point and each match after the first doubles the point value of that card.\n",
      "For example:\n",
      "Card 1: 41 48 83 86 17 | 83 86  6 31 17  9 48 53\n",
      "Card 2: 13 32 20 16 61 | 61 30 68 82 17 32 24 19\n",
      "Card 3:  1 21 53 59 44 | 69 82 63 72 16 21 14  1\n",
      "Card 4: 41 92 73 84 69 | 59 84 76 51 58  5 54 83\n",
      "Card 5: 87 83 26 28 32 | 88 30 70 12 93 22 82 36\n",
      "Card 6: 31 18 13 56 72 | 74 77 10 23 35 67 36 11\n",
      "\n",
      "In the above example, card 1 has five winning numbers (41, 48, 83, 86, and 17) and eight numbers you have (83, 86, 6, 31, 17, 9, 48, and 53). Of the numbers you have, four of them (48, 83, 17, and 86) are winning numbers! That means card 1 is worth 8 points (1 for the first match, then doubled three times for each of the three matches after the first).\n",
      "\n",
      "Card 2 has two winning numbers (32 and 61), so it is worth 2 points.\n",
      "Card 3 has two winning numbers (1 and 21), so it is worth 2 points.\n",
      "Card 4 has one winning number (84), so it is worth 1 point.\n",
      "Card 5 has no winning numbers, so it is worth no points.\n",
      "Card 6 has no winning numbers, so it is worth no points.\n",
      "\n",
      "So, in this example, the Elf's pile of scratchcards is worth 13 points.\n",
      "Take a seat in the large pile of colorful cards. How many points are they worth in total?\n",
      "\n"
     ]
    }
   ],
   "source": [
    "import requests\n",
    "from bs4 import BeautifulSoup\n",
    "\n",
    "def get_aoc_problem(day, year=2023):\n",
    "    url = f\"https://adventofcode.com/{year}/day/{day}\"\n",
    "    try:\n",
    "        response = requests.get(url)\n",
    "        response.raise_for_status()  # raises an exception for HTTP errors\n",
    "\n",
    "        soup = BeautifulSoup(response.text, 'html.parser')\n",
    "        \n",
    "        # Assuming problem text is within an article tag (this might change)\n",
    "        problem_text = soup.find('article').get_text()\n",
    "        return problem_text\n",
    "    except Exception as e:\n",
    "        return f\"Error fetching problem: {e}\"\n",
    "\n",
    "day = 4\n",
    "problem_prompt = get_aoc_problem(day)\n",
    "print(problem_prompt)\n"
   ]
  },
  {
   "cell_type": "code",
   "execution_count": 20,
   "id": "f7bb3c6f",
   "metadata": {},
   "outputs": [
    {
     "name": "stdout",
     "output_type": "stream",
     "text": [
      "Card 1: 41 48 83 86 17 | 83 86  6 31 17  9 48 53\n",
      "Card 2: 13 32 20 16 61 | 61 30 68 82 17 32 24 19\n",
      "Card 3:  1 21 53 59 44 | 69 82 63 72 16 21 14  1\n",
      "Card 4: 41 92 73 84 69 | 59 84 76 51 58  5 54 83\n",
      "Card 5: 87 83 26 28 32 | 88 30 70 12 93 22 82 36\n",
      "Card 6: 31 18 13 56 72 | 74 77 10 23 35 67 36 11\n"
     ]
    }
   ],
   "source": [
    "with open('test.txt') as f:\n",
    "    data = f.read()\n",
    "    \n",
    "lines = data.split('\\n')[:-1]\n",
    "\n",
    "for line in lines: \n",
    "    print(line)"
   ]
  },
  {
   "cell_type": "markdown",
   "id": "8bb475c2",
   "metadata": {},
   "source": [
    "### Utility functions"
   ]
  },
  {
   "cell_type": "code",
   "execution_count": 30,
   "id": "d3e67575",
   "metadata": {},
   "outputs": [],
   "source": [
    "def parse_line(line):\n",
    "    line = line.split('|')\n",
    "\n",
    "    print(line)\n",
    "    card_id = line[1].strip(':')\n",
    "\n",
    "\n",
    "    # card_id = line[1].strip(':')\n",
    "    # winning_cards = line[2:12]\n",
    "\n",
    "    # # assert line[12] == '|'\n",
    "    # print(f'line[12] = {line[12]}')\n",
    "\n",
    "    # cards_in_hand = line[13:]\n",
    "\n",
    "    # return card_id, winning_cards, cards_in_hand"
   ]
  },
  {
   "cell_type": "markdown",
   "id": "c592c09c",
   "metadata": {},
   "source": [
    "### Part 1"
   ]
  },
  {
   "cell_type": "code",
   "execution_count": 31,
   "id": "39cc192e",
   "metadata": {},
   "outputs": [
    {
     "name": "stdout",
     "output_type": "stream",
     "text": [
      "['Card 1: 41 48 83 86 17 ', ' 83 86  6 31 17  9 48 53']\n"
     ]
    },
    {
     "ename": "TypeError",
     "evalue": "cannot unpack non-iterable NoneType object",
     "output_type": "error",
     "traceback": [
      "\u001b[0;31m---------------------------------------------------------------------------\u001b[0m",
      "\u001b[0;31mTypeError\u001b[0m                                 Traceback (most recent call last)",
      "\u001b[1;32m/Users/romankitsela/Documents/GitHub/Advent-of-Code-2023/day_4/day4.ipynb Cell 7\u001b[0m line \u001b[0;36m5\n\u001b[1;32m      <a href='vscode-notebook-cell:/Users/romankitsela/Documents/GitHub/Advent-of-Code-2023/day_4/day4.ipynb#X21sZmlsZQ%3D%3D?line=2'>3</a>\u001b[0m \u001b[39mfor\u001b[39;00m line \u001b[39min\u001b[39;00m lines:\n\u001b[1;32m      <a href='vscode-notebook-cell:/Users/romankitsela/Documents/GitHub/Advent-of-Code-2023/day_4/day4.ipynb#X21sZmlsZQ%3D%3D?line=3'>4</a>\u001b[0m     match_count \u001b[39m=\u001b[39m \u001b[39m0\u001b[39m\n\u001b[0;32m----> <a href='vscode-notebook-cell:/Users/romankitsela/Documents/GitHub/Advent-of-Code-2023/day_4/day4.ipynb#X21sZmlsZQ%3D%3D?line=4'>5</a>\u001b[0m     card_id, winning_cards, cards_in_hand \u001b[39m=\u001b[39m parse_line(line)\n\u001b[1;32m      <a href='vscode-notebook-cell:/Users/romankitsela/Documents/GitHub/Advent-of-Code-2023/day_4/day4.ipynb#X21sZmlsZQ%3D%3D?line=5'>6</a>\u001b[0m     \u001b[39m# print(f'card id: {card_id}')\u001b[39;00m\n\u001b[1;32m      <a href='vscode-notebook-cell:/Users/romankitsela/Documents/GitHub/Advent-of-Code-2023/day_4/day4.ipynb#X21sZmlsZQ%3D%3D?line=6'>7</a>\u001b[0m     \u001b[39m# print(f'winning cards: {winning_cards}')\u001b[39;00m\n\u001b[1;32m      <a href='vscode-notebook-cell:/Users/romankitsela/Documents/GitHub/Advent-of-Code-2023/day_4/day4.ipynb#X21sZmlsZQ%3D%3D?line=7'>8</a>\u001b[0m     \u001b[39m# print(f'cards in hand: {cards_in_hand}')\u001b[39;00m\n\u001b[1;32m     <a href='vscode-notebook-cell:/Users/romankitsela/Documents/GitHub/Advent-of-Code-2023/day_4/day4.ipynb#X21sZmlsZQ%3D%3D?line=9'>10</a>\u001b[0m     \u001b[39mfor\u001b[39;00m card \u001b[39min\u001b[39;00m cards_in_hand:\n",
      "\u001b[0;31mTypeError\u001b[0m: cannot unpack non-iterable NoneType object"
     ]
    }
   ],
   "source": [
    "point_sum = 0\n",
    "\n",
    "for line in lines:\n",
    "    match_count = 0\n",
    "    card_id, winning_cards, cards_in_hand = parse_line(line)\n",
    "    # print(f'card id: {card_id}')\n",
    "    # print(f'winning cards: {winning_cards}')\n",
    "    # print(f'cards in hand: {cards_in_hand}')\n",
    "    \n",
    "    for card in cards_in_hand:\n",
    "        if card in winning_cards:\n",
    "            print(f'card {card} is in winning cards')\n",
    "            match_count += 1\n",
    "\n",
    "    if match_count > 0:\n",
    "        point_sum += 2**(match_count-1)\n",
    "\n",
    "    \n",
    "print(f'point sum: {point_sum}')\n",
    "\n"
   ]
  },
  {
   "cell_type": "markdown",
   "id": "b31d930d",
   "metadata": {},
   "source": [
    "### Part 2"
   ]
  },
  {
   "cell_type": "code",
   "execution_count": null,
   "id": "fbabeca6",
   "metadata": {},
   "outputs": [],
   "source": [
    "card_counts = {}\n",
    "\n",
    "for line in lines:\n",
    "\n",
    "    match_count = 0\n",
    "    card_id, winning_cards, cards_in_hand = parse_line(line)\n",
    "    # print(f'card id: {card_id}')\n",
    "    # print(f'winning cards: {winning_cards}')\n",
    "    # print(f'cards in hand: {cards_in_hand}')\n",
    "\n",
    "    if card_id in card_counts:\n",
    "        card_counts[card_id] += 1\n",
    "    else:\n",
    "        card_counts[card_id] = 1\n",
    "    \n",
    "    for card in cards_in_hand:\n",
    "        if card in winning_cards:\n",
    "            # print(f'card {card} is in winning cards')\n",
    "            match_count += 1\n",
    "\n",
    "    for count in range(card_counts[card_id]):\n",
    "        if match_count > 0:\n",
    "            for id_offset in range(1, match_count+1):\n",
    "                if card_id in card_counts:\n",
    "                    card_counts[card_id] += 1\n",
    "                else:\n",
    "                    card_counts[card_id] = 1\n",
    "    \n",
    "print(f'card_counts =  {card_counts}')\n",
    "\n"
   ]
  }
 ],
 "metadata": {
  "kernelspec": {
   "display_name": "Python 3 (ipykernel)",
   "language": "python",
   "name": "python3"
  },
  "language_info": {
   "codemirror_mode": {
    "name": "ipython",
    "version": 3
   },
   "file_extension": ".py",
   "mimetype": "text/x-python",
   "name": "python",
   "nbconvert_exporter": "python",
   "pygments_lexer": "ipython3",
   "version": "3.11.2"
  }
 },
 "nbformat": 4,
 "nbformat_minor": 5
}
