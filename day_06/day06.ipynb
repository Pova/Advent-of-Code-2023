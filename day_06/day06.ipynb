{
 "cells": [
  {
   "cell_type": "markdown",
   "id": "5538b212",
   "metadata": {},
   "source": [
    "# Day 6"
   ]
  },
  {
   "cell_type": "code",
   "execution_count": 1,
   "id": "17cbbbc7",
   "metadata": {},
   "outputs": [
    {
     "name": "stdout",
     "output_type": "stream",
     "text": [
      "--- Day 6: Wait For It ---The ferry quickly brings you across Island Island. After asking around, you discover that there is indeed normally a large pile of sand somewhere near here, but you don't see anything besides lots of water and the small island where the ferry has docked.\n",
      "As you try to figure out what to do next, you notice a poster on a wall near the ferry dock. \"Boat races! Open to the public! Grand prize is an all-expenses-paid trip to Desert Island!\" That must be where the sand comes from! Best of all, the boat races are starting in just a few minutes.\n",
      "You manage to sign up as a competitor in the boat races just in time. The organizer explains that it's not really a traditional race - instead, you will get a fixed amount of time during which your boat has to travel as far as it can, and you win if your boat goes the farthest.\n",
      "As part of signing up, you get a sheet of paper (your puzzle input) that lists the time allowed for each race and also the best distance ever recorded in that race. To guarantee you win the grand prize, you need to make sure you go farther in each race than the current record holder.\n",
      "The organizer brings you over to the area where the boat races are held. The boats are much smaller than you expected - they're actually toy boats, each with a big button on top. Holding down the button charges the boat, and releasing the button allows the boat to move. Boats move faster if their button was held longer, but time spent holding the button counts against the total race time. You can only hold the button at the start of the race, and boats don't move until the button is released.\n",
      "For example:\n",
      "Time:      7  15   30\n",
      "Distance:  9  40  200\n",
      "\n",
      "This document describes three races:\n",
      "\n",
      "The first race lasts 7 milliseconds. The record distance in this race is 9 millimeters.\n",
      "The second race lasts 15 milliseconds. The record distance in this race is 40 millimeters.\n",
      "The third race lasts 30 milliseconds. The record distance in this race is 200 millimeters.\n",
      "\n",
      "Your toy boat has a starting speed of zero millimeters per millisecond. For each whole millisecond you spend at the beginning of the race holding down the button, the boat's speed increases by one millimeter per millisecond.\n",
      "So, because the first race lasts 7 milliseconds, you only have a few options:\n",
      "\n",
      "Don't hold the button at all (that is, hold it for 0 milliseconds) at the start of the race. The boat won't move; it will have traveled 0 millimeters by the end of the race.\n",
      "Hold the button for 1 millisecond at the start of the race. Then, the boat will travel at a speed of 1 millimeter per millisecond for 6 milliseconds, reaching a total distance traveled of 6 millimeters.\n",
      "Hold the button for 2 milliseconds, giving the boat a speed of 2 millimeters per millisecond. It will then get 5 milliseconds to move, reaching a total distance of 10 millimeters.\n",
      "Hold the button for 3 milliseconds. After its remaining 4 milliseconds of travel time, the boat will have gone 12 millimeters.\n",
      "Hold the button for 4 milliseconds. After its remaining 3 milliseconds of travel time, the boat will have gone 12 millimeters.\n",
      "Hold the button for 5 milliseconds, causing the boat to travel a total of 10 millimeters.\n",
      "Hold the button for 6 milliseconds, causing the boat to travel a total of 6 millimeters.\n",
      "Hold the button for 7 milliseconds. That's the entire duration of the race. You never let go of the button. The boat can't move until you let go of the button. Please make sure you let go of the button so the boat gets to move. 0 millimeters.\n",
      "\n",
      "Since the current record for this race is 9 millimeters, there are actually 4 different ways you could win: you could hold the button for 2, 3, 4, or 5 milliseconds at the start of the race.\n",
      "In the second race, you could hold the button for at least 4 milliseconds and at most 11 milliseconds and beat the record, a total of 8 different ways to win.\n",
      "In the third race, you could hold the button for at least 11 milliseconds and no more than 19 milliseconds and still beat the record, a total of 9 ways you could win.\n",
      "To see how much margin of error you have, determine the number of ways you can beat the record in each race; in this example, if you multiply these values together, you get 288 (4 * 8 * 9).\n",
      "Determine the number of ways you could beat the record in each race. What do you get if you multiply these numbers together?\n",
      "\n"
     ]
    }
   ],
   "source": [
    "import requests\n",
    "from bs4 import BeautifulSoup\n",
    "\n",
    "def get_aoc_problem(day, year=2023):\n",
    "    url = f\"https://adventofcode.com/{year}/day/{day}\"\n",
    "    try:\n",
    "        response = requests.get(url)\n",
    "        response.raise_for_status()  # raises an exception for HTTP errors\n",
    "\n",
    "        soup = BeautifulSoup(response.text, 'html.parser')\n",
    "        \n",
    "        problem_text = soup.find('article').get_text()\n",
    "        return problem_text\n",
    "    except Exception as e:\n",
    "        return f\"Error fetching problem: {e}\"\n",
    "\n",
    "day = 6\n",
    "problem_prompt = get_aoc_problem(day)\n",
    "print(problem_prompt)"
   ]
  },
  {
   "cell_type": "code",
   "execution_count": 2,
   "id": "f7bb3c6f",
   "metadata": {},
   "outputs": [
    {
     "name": "stdout",
     "output_type": "stream",
     "text": [
      "Time:        58     81     96     76\n",
      "Distance:   434   1041   2219   1218\n"
     ]
    }
   ],
   "source": [
    "try:\n",
    "    # Open and read the file\n",
    "    with open('input.txt', 'r') as file:\n",
    "        lines = file.read().strip().split('\\n')\n",
    "\n",
    "    # Print each line\n",
    "    for line in lines:\n",
    "        print(line)\n",
    "\n",
    "except FileNotFoundError:\n",
    "    # Specific exception for a clearer error message\n",
    "    print('Input file not found.')\n",
    "\n",
    "except Exception as e:\n",
    "    # Catch other exceptions and print the error\n",
    "    print(f'An error occurred: {e}')"
   ]
  },
  {
   "cell_type": "markdown",
   "id": "de6c2157",
   "metadata": {},
   "source": [
    "**Time:** $t_0$\n",
    "**Distance:** $d_0$\n",
    "\n",
    "Suppose hold button for $k$ (where $k < t_0$) seconds\n",
    "\n",
    "- Time: left $= t_0 - k$\n",
    "- Speed: $k$ (mm/ms)\n",
    "- Distance travelled $= k(t_0-k)$\n",
    "\n",
    "Want to find number of values of $k$ where $k(t_0-k) > d_0$\n",
    "\n",
    "**Idea**\n",
    "\n",
    "Use the quadratic formula:\n",
    "\n",
    "want to find $-k^2 + t_0k - d_0 = 0$ (values $k_1$, $k_2$)\n",
    "\n",
    "$$k = \\frac{t_0 \\mp \\sqrt{t_0^2 - 4d_0}}{2}$$"
   ]
  },
  {
   "cell_type": "markdown",
   "id": "5975bcf7",
   "metadata": {},
   "source": [
    "### Plot of solution for the first race"
   ]
  },
  {
   "cell_type": "code",
   "execution_count": 3,
   "id": "e1b43b6c",
   "metadata": {},
   "outputs": [
    {
     "data": {
      "image/png": "[encoded data removed]",
      "text/plain": [
       "<Figure size 640x480 with 1 Axes>"
      ]
     },
     "metadata": {},
     "output_type": "display_data"
    }
   ],
   "source": [
    "import numpy as np\n",
    "import matplotlib.pyplot as plt\n",
    "\n",
    "t_0 = 7\n",
    "d_0 = 9\n",
    "\n",
    "x = np.linspace(0, 7, 100)\n",
    "y_quadratic = -x**2 + t_0*x \n",
    "y_horizontal = np.full_like(x, d_0)\n",
    "\n",
    "plt.plot(x, y_quadratic, label='y = -x^2 + t_0*x')\n",
    "plt.plot(x, y_horizontal, label='y = d_0')\n",
    "\n",
    "plt.show()"
   ]
  },
  {
   "cell_type": "markdown",
   "id": "8bb475c2",
   "metadata": {},
   "source": [
    "### Utility functions"
   ]
  },
  {
   "cell_type": "markdown",
   "id": "101a0fd7",
   "metadata": {},
   "source": [
    "$$k = \\frac{t_0 \\mp \\sqrt{t_0^2 - 4d_0}}{2}$$"
   ]
  },
  {
   "cell_type": "code",
   "execution_count": 4,
   "id": "38bf8369",
   "metadata": {},
   "outputs": [],
   "source": [
    "def distance_between_solutions(t_0, d_0):\n",
    "\n",
    "    adjust = 0\n",
    "\n",
    "    sol_1 = t_0/2 - np.sqrt(t_0**2 - 4*d_0)/2\n",
    "    # print(f'sol_1 = {sol_1}')\n",
    "\n",
    "    if sol_1 == int(sol_1):\n",
    "        # print('left solution is an integer')\n",
    "        left_end = sol_1\n",
    "        adjust += 1\n",
    "    else:\n",
    "        left_end = int(sol_1) + 1\n",
    "\n",
    "    sol_2 = t_0/2 + np.sqrt(t_0**2 - 4*d_0)/2\n",
    "    # print(f'sol_2 = {sol_2}')\n",
    "    \n",
    "    if sol_2 == int(sol_2):\n",
    "        # print('right solution is an integer')\n",
    "        right_end = sol_2\n",
    "        adjust += 1\n",
    "    else:\n",
    "        right_end = int(sol_2)\n",
    "    \n",
    "    # print(f'left_end = {left_end}')\n",
    "    # print(f'right_end = {right_end}')\n",
    "\n",
    "    count = (right_end - left_end + 1) - adjust\n",
    "\n",
    "    return int(count)"
   ]
  },
  {
   "cell_type": "markdown",
   "id": "c592c09c",
   "metadata": {},
   "source": [
    "### Part 1"
   ]
  },
  {
   "cell_type": "code",
   "execution_count": 5,
   "id": "9d6e1126",
   "metadata": {},
   "outputs": [
    {
     "name": "stdout",
     "output_type": "stream",
     "text": [
      "1159152\n"
     ]
    }
   ],
   "source": [
    "times = [int(num) for num in lines[0].split(':')[1].strip().split()]\n",
    "distances = [int(num) for num in lines[1].split(':')[1].strip().split()]\n",
    "\n",
    "assert len(times) == len(distances)\n",
    "\n",
    "number_ways_to_win = 1\n",
    "\n",
    "for idx in range(len(times)):\n",
    "    # calculate the distance between solutions\n",
    "    distance = distance_between_solutions(times[idx], distances[idx])\n",
    "\n",
    "    number_ways_to_win *= distance\n",
    "    \n",
    "print(number_ways_to_win)"
   ]
  },
  {
   "cell_type": "markdown",
   "id": "b31d930d",
   "metadata": {},
   "source": [
    "### Part 2"
   ]
  },
  {
   "cell_type": "code",
   "execution_count": 6,
   "id": "4185a862",
   "metadata": {},
   "outputs": [
    {
     "data": {
      "text/plain": [
       "41513103"
      ]
     },
     "execution_count": 6,
     "metadata": {},
     "output_type": "execute_result"
    }
   ],
   "source": [
    "times_str = \"\".join(lines[0].split(':')[1].strip().split())\n",
    "distances_str = \"\".join(lines[1].split(':')[1].strip().split())\n",
    "\n",
    "distance_between_solutions(int(times_str), int(distances_str))"
   ]
  }
 ],
 "metadata": {
  "kernelspec": {
   "display_name": "Python 3 (ipykernel)",
   "language": "python",
   "name": "python3"
  },
  "language_info": {
   "codemirror_mode": {
    "name": "ipython",
    "version": 3
   },
   "file_extension": ".py",
   "mimetype": "text/x-python",
   "name": "python",
   "nbconvert_exporter": "python",
   "pygments_lexer": "ipython3",
   "version": "3.11.2"
  }
 },
 "nbformat": 4,
 "nbformat_minor": 5
}
