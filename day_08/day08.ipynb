{
 "cells": [
  {
   "cell_type": "markdown",
   "id": "ee54813c",
   "metadata": {},
   "source": [
    "# Day 8"
   ]
  },
  {
   "cell_type": "code",
   "execution_count": 1,
   "id": "54fe891d",
   "metadata": {},
   "outputs": [
    {
     "name": "stdout",
     "output_type": "stream",
     "text": [
      "--- Day 8: Haunted Wasteland ---You're still riding a camel across Desert Island when you spot a sandstorm quickly approaching. When you turn to warn the Elf, she disappears before your eyes! To be fair, she had just finished warning you about ghosts a few minutes ago.\n",
      "One of the camel's pouches is labeled \"maps\" - sure enough, it's full of documents (your puzzle input) about how to navigate the desert. At least, you're pretty sure that's what they are; one of the documents contains a list of left/right instructions, and the rest of the documents seem to describe some kind of network of labeled nodes.\n",
      "It seems like you're meant to use the left/right instructions to navigate the network. Perhaps if you have the camel follow the same instructions, you can escape the haunted wasteland!\n",
      "After examining the maps for a bit, two nodes stick out: AAA and ZZZ. You feel like AAA is where you are now, and you have to follow the left/right instructions until you reach ZZZ.\n",
      "This format defines each node of the network individually. For example:\n",
      "RL\n",
      "\n",
      "AAA = (BBB, CCC)\n",
      "BBB = (DDD, EEE)\n",
      "CCC = (ZZZ, GGG)\n",
      "DDD = (DDD, DDD)\n",
      "EEE = (EEE, EEE)\n",
      "GGG = (GGG, GGG)\n",
      "ZZZ = (ZZZ, ZZZ)\n",
      "\n",
      "Starting with AAA, you need to look up the next element based on the next left/right instruction in your input. In this example, start with AAA and go right (R) by choosing the right element of AAA, CCC. Then, L means to choose the left element of CCC, ZZZ. By following the left/right instructions, you reach ZZZ in 2 steps.\n",
      "Of course, you might not find ZZZ right away. If you run out of left/right instructions, repeat the whole sequence of instructions as necessary: RL really means RLRLRLRLRLRLRLRL... and so on. For example, here is a situation that takes 6 steps to reach ZZZ:\n",
      "LLR\n",
      "\n",
      "AAA = (BBB, BBB)\n",
      "BBB = (AAA, ZZZ)\n",
      "ZZZ = (ZZZ, ZZZ)\n",
      "\n",
      "Starting at AAA, follow the left/right instructions. How many steps are required to reach ZZZ?\n",
      "\n"
     ]
    }
   ],
   "source": [
    "import requests\n",
    "from bs4 import BeautifulSoup\n",
    "\n",
    "def get_aoc_problem(day, year=2023):\n",
    "    url = f\"https://adventofcode.com/{year}/day/{day}\"\n",
    "    try:\n",
    "        response = requests.get(url)\n",
    "        response.raise_for_status()  # raises an exception for HTTP errors\n",
    "\n",
    "        soup = BeautifulSoup(response.text, 'html.parser')\n",
    "        \n",
    "        # Assuming problem text is within an article tag (this might change)\n",
    "        problem_text = soup.find('article').get_text()\n",
    "        return problem_text\n",
    "    except Exception as e:\n",
    "        return f\"Error fetching problem: {e}\"\n",
    "\n",
    "day = 8\n",
    "problem_prompt = get_aoc_problem(day)\n",
    "print(problem_prompt)"
   ]
  },
  {
   "cell_type": "code",
   "execution_count": null,
   "id": "f7bb3c6f",
   "metadata": {},
   "outputs": [],
   "source": [
    "try:\n",
    "    # Open and read the file\n",
    "    with open('input.txt', 'r') as file:\n",
    "        lines = file.read().strip().split('\\n')\n",
    "\n",
    "    # Print each line\n",
    "    for line in lines:\n",
    "        print(line)\n",
    "\n",
    "except FileNotFoundError:\n",
    "    # Specific exception for a clearer error message\n",
    "    print('Input file not found.')\n",
    "\n",
    "except Exception as e:\n",
    "    # Catch other exceptions and print the error\n",
    "    print(f'An error occurred: {e}')"
   ]
  },
  {
   "cell_type": "markdown",
   "id": "8bb475c2",
   "metadata": {},
   "source": [
    "### Utility functions"
   ]
  },
  {
   "cell_type": "code",
   "execution_count": null,
   "id": "2ccebd79",
   "metadata": {},
   "outputs": [],
   "source": []
  },
  {
   "cell_type": "markdown",
   "id": "c592c09c",
   "metadata": {},
   "source": [
    "### Part 1"
   ]
  },
  {
   "cell_type": "code",
   "execution_count": null,
   "id": "5bf956f3",
   "metadata": {},
   "outputs": [],
   "source": []
  },
  {
   "cell_type": "markdown",
   "id": "b31d930d",
   "metadata": {},
   "source": [
    "### Part 2"
   ]
  },
  {
   "cell_type": "code",
   "execution_count": null,
   "id": "4185a862",
   "metadata": {},
   "outputs": [],
   "source": []
  }
 ],
 "metadata": {
  "kernelspec": {
   "display_name": "Python 3 (ipykernel)",
   "language": "python",
   "name": "python3"
  },
  "language_info": {
   "codemirror_mode": {
    "name": "ipython",
    "version": 3
   },
   "file_extension": ".py",
   "mimetype": "text/x-python",
   "name": "python",
   "nbconvert_exporter": "python",
   "pygments_lexer": "ipython3",
   "version": "3.11.5"
  }
 },
 "nbformat": 4,
 "nbformat_minor": 5
}
