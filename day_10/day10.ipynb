{
 "cells": [
  {
   "cell_type": "markdown",
   "id": "3bf9226a",
   "metadata": {},
   "source": [
    "# Day 10"
   ]
  },
  {
   "cell_type": "code",
   "execution_count": 1,
   "id": "96191d86",
   "metadata": {},
   "outputs": [
    {
     "name": "stdout",
     "output_type": "stream",
     "text": [
      "--- Day 10: Pipe Maze ---You use the hang glider to ride the hot air from Desert Island all the way up to the floating metal island. This island is surprisingly cold and there definitely aren't any thermals to glide on, so you leave your hang glider behind.\n",
      "You wander around for a while, but you don't find any people or animals. However, you do occasionally find signposts labeled \"Hot Springs\" pointing in a seemingly consistent direction; maybe you can find someone at the hot springs and ask them where the desert-machine parts are made.\n",
      "The landscape here is alien; even the flowers and trees are made of metal. As you stop to admire some metal grass, you notice something metallic scurry away in your peripheral vision and jump into a big pipe! It didn't look like any animal you've ever seen; if you want a better look, you'll need to get ahead of it.\n",
      "Scanning the area, you discover that the entire field you're standing on is densely packed with pipes; it was hard to tell at first because they're the same metallic silver color as the \"ground\". You make a quick sketch of all of the surface pipes you can see (your puzzle input).\n",
      "The pipes are arranged in a two-dimensional grid of tiles:\n",
      "\n",
      "| is a vertical pipe connecting north and south.\n",
      "- is a horizontal pipe connecting east and west.\n",
      "L is a 90-degree bend connecting north and east.\n",
      "J is a 90-degree bend connecting north and west.\n",
      "7 is a 90-degree bend connecting south and west.\n",
      "F is a 90-degree bend connecting south and east.\n",
      ". is ground; there is no pipe in this tile.\n",
      "S is the starting position of the animal; there is a pipe on this tile, but your sketch doesn't show what shape the pipe has.\n",
      "\n",
      "Based on the acoustics of the animal's scurrying, you're confident the pipe that contains the animal is one large, continuous loop.\n",
      "For example, here is a square loop of pipe:\n",
      ".....\n",
      ".F-7.\n",
      ".|.|.\n",
      ".L-J.\n",
      ".....\n",
      "\n",
      "If the animal had entered this loop in the northwest corner, the sketch would instead look like this:\n",
      ".....\n",
      ".S-7.\n",
      ".|.|.\n",
      ".L-J.\n",
      ".....\n",
      "\n",
      "In the above diagram, the S tile is still a 90-degree F bend: you can tell because of how the adjacent pipes connect to it.\n",
      "Unfortunately, there are also many pipes that aren't connected to the loop! This sketch shows the same loop as above:\n",
      "-L|F7\n",
      "7S-7|\n",
      "L|7||\n",
      "-L-J|\n",
      "L|-JF\n",
      "\n",
      "In the above diagram, you can still figure out which pipes form the main loop: they're the ones connected to S, pipes those pipes connect to, pipes those pipes connect to, and so on. Every pipe in the main loop connects to its two neighbors (including S, which will have exactly two pipes connecting to it, and which is assumed to connect back to those two pipes).\n",
      "Here is a sketch that contains a slightly more complex main loop:\n",
      "..F7.\n",
      ".FJ|.\n",
      "SJ.L7\n",
      "|F--J\n",
      "LJ...\n",
      "\n",
      "Here's the same example sketch with the extra, non-main-loop pipe tiles also shown:\n",
      "7-F7-\n",
      ".FJ|7\n",
      "SJLL7\n",
      "|F--J\n",
      "LJ.LJ\n",
      "\n",
      "If you want to get out ahead of the animal, you should find the tile in the loop that is farthest from the starting position. Because the animal is in the pipe, it doesn't make sense to measure this by direct distance. Instead, you need to find the tile that would take the longest number of steps along the loop to reach from the starting point - regardless of which way around the loop the animal went.\n",
      "In the first example with the square loop:\n",
      ".....\n",
      ".S-7.\n",
      ".|.|.\n",
      ".L-J.\n",
      ".....\n",
      "\n",
      "You can count the distance each tile in the loop is from the starting point like this:\n",
      ".....\n",
      ".012.\n",
      ".1.3.\n",
      ".234.\n",
      ".....\n",
      "\n",
      "In this example, the farthest point from the start is 4 steps away.\n",
      "Here's the more complex loop again:\n",
      "..F7.\n",
      ".FJ|.\n",
      "SJ.L7\n",
      "|F--J\n",
      "LJ...\n",
      "\n",
      "Here are the distances for each tile on that loop:\n",
      "..45.\n",
      ".236.\n",
      "01.78\n",
      "14567\n",
      "23...\n",
      "\n",
      "Find the single giant loop starting at S. How many steps along the loop does it take to get from the starting position to the point farthest from the starting position?\n",
      "\n"
     ]
    }
   ],
   "source": [
    "import requests\n",
    "from bs4 import BeautifulSoup\n",
    "\n",
    "def get_aoc_problem(day, year=2023):\n",
    "    url = f\"https://adventofcode.com/{year}/day/{day}\"\n",
    "    try:\n",
    "        response = requests.get(url)\n",
    "        response.raise_for_status()  # raises an exception for HTTP errors\n",
    "\n",
    "        soup = BeautifulSoup(response.text, 'html.parser')\n",
    "        \n",
    "        problem_text = soup.find('article').get_text()\n",
    "        return problem_text\n",
    "    except Exception as e:\n",
    "        return f\"Error fetching problem: {e}\"\n",
    "\n",
    "day = 10\n",
    "problem_prompt = get_aoc_problem(day)\n",
    "print(problem_prompt)"
   ]
  },
  {
   "cell_type": "code",
   "execution_count": null,
   "id": "f7bb3c6f",
   "metadata": {},
   "outputs": [],
   "source": [
    "try:\n",
    "    # Open and read the file\n",
    "    with open('input.txt', 'r') as file:\n",
    "        lines = file.read().strip().split('\\n')\n",
    "\n",
    "    # Print each line\n",
    "    for line in lines:\n",
    "        print(line)\n",
    "\n",
    "except FileNotFoundError:\n",
    "    # Specific exception for a clearer error message\n",
    "    print('Input file not found.')\n",
    "\n",
    "except Exception as e:\n",
    "    # Catch other exceptions and print the error\n",
    "    print(f'An error occurred: {e}')\n"
   ]
  },
  {
   "cell_type": "markdown",
   "id": "8bb475c2",
   "metadata": {},
   "source": [
    "### Utility functions"
   ]
  },
  {
   "cell_type": "code",
   "execution_count": null,
   "id": "2ccebd79",
   "metadata": {},
   "outputs": [],
   "source": []
  },
  {
   "cell_type": "markdown",
   "id": "c592c09c",
   "metadata": {},
   "source": [
    "### Part 1"
   ]
  },
  {
   "cell_type": "code",
   "execution_count": null,
   "id": "5bf956f3",
   "metadata": {},
   "outputs": [],
   "source": []
  },
  {
   "cell_type": "markdown",
   "id": "b31d930d",
   "metadata": {},
   "source": [
    "### Part 2"
   ]
  },
  {
   "cell_type": "code",
   "execution_count": null,
   "id": "4185a862",
   "metadata": {},
   "outputs": [],
   "source": []
  }
 ],
 "metadata": {
  "kernelspec": {
   "display_name": "Python 3 (ipykernel)",
   "language": "python",
   "name": "python3"
  },
  "language_info": {
   "codemirror_mode": {
    "name": "ipython",
    "version": 3
   },
   "file_extension": ".py",
   "mimetype": "text/x-python",
   "name": "python",
   "nbconvert_exporter": "python",
   "pygments_lexer": "ipython3",
   "version": "3.11.5"
  }
 },
 "nbformat": 4,
 "nbformat_minor": 5
}
