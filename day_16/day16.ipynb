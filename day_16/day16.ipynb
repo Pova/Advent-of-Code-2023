{
 "cells": [
  {
   "cell_type": "markdown",
   "id": "3bf9226a",
   "metadata": {},
   "source": [
    "# Day 16"
   ]
  },
  {
   "cell_type": "code",
   "execution_count": 1,
   "id": "96191d86",
   "metadata": {},
   "outputs": [
    {
     "name": "stdout",
     "output_type": "stream",
     "text": [
      "--- Day 16: The Floor Will Be Lava ---With the beam of light completely focused somewhere, the reindeer leads you deeper still into the Lava Production Facility. At some point, you realize that the steel facility walls have been replaced with cave, and the doorways are just cave, and the floor is cave, and you're pretty sure this is actually just a giant cave.\n",
      "Finally, as you approach what must be the heart of the mountain, you see a bright light in a cavern up ahead. There, you discover that the beam of light you so carefully focused is emerging from the cavern wall closest to the facility and pouring all of its energy into a contraption on the opposite side.\n",
      "Upon closer inspection, the contraption appears to be a flat, two-dimensional square grid containing empty space (.), mirrors (/ and \\), and splitters (| and -).\n",
      "The contraption is aligned so that most of the beam bounces around the grid, but each tile on the grid converts some of the beam's light into heat to melt the rock in the cavern.\n",
      "You note the layout of the contraption (your puzzle input). For example:\n",
      ".|...\\....\n",
      "|.-.\\.....\n",
      ".....|-...\n",
      "........|.\n",
      "..........\n",
      ".........\\\n",
      "..../.\\\\..\n",
      ".-.-/..|..\n",
      ".|....-|.\\\n",
      "..//.|....\n",
      "\n",
      "The beam enters in the top-left corner from the left and heading to the right. Then, its behavior depends on what it encounters as it moves:\n",
      "\n",
      "If the beam encounters empty space (.), it continues in the same direction.\n",
      "If the beam encounters a mirror (/ or \\), the beam is reflected 90 degrees depending on the angle of the mirror. For instance, a rightward-moving beam that encounters a / mirror would continue upward in the mirror's column, while a rightward-moving beam that encounters a \\ mirror would continue downward from the mirror's column.\n",
      "If the beam encounters the pointy end of a splitter (| or -), the beam passes through the splitter as if the splitter were empty space. For instance, a rightward-moving beam that encounters a - splitter would continue in the same direction.\n",
      "If the beam encounters the flat side of a splitter (| or -), the beam is split into two beams going in each of the two directions the splitter's pointy ends are pointing. For instance, a rightward-moving beam that encounters a | splitter would split into two beams: one that continues upward from the splitter's column and one that continues downward from the splitter's column.\n",
      "\n",
      "Beams do not interact with other beams; a tile can have many beams passing through it at the same time. A tile is energized if that tile has at least one beam pass through it, reflect in it, or split in it.\n",
      "In the above example, here is how the beam of light bounces around the contraption:\n",
      ">|<<<\\....\n",
      "|v-.\\^....\n",
      ".v...|->>>\n",
      ".v...v^.|.\n",
      ".v...v^...\n",
      ".v...v^..\\\n",
      ".v../2\\\\..\n",
      "<->-/vv|..\n",
      ".|<<<2-|.\\\n",
      ".v//.|.v..\n",
      "\n",
      "Beams are only shown on empty tiles; arrows indicate the direction of the beams. If a tile contains beams moving in multiple directions, the number of distinct directions is shown instead. Here is the same diagram but instead only showing whether a tile is energized (#) or not (.):\n",
      "######....\n",
      ".#...#....\n",
      ".#...#####\n",
      ".#...##...\n",
      ".#...##...\n",
      ".#...##...\n",
      ".#..####..\n",
      "########..\n",
      ".#######..\n",
      ".#...#.#..\n",
      "\n",
      "Ultimately, in this example, 46 tiles become energized.\n",
      "The light isn't energizing enough tiles to produce lava; to debug the contraption, you need to start by analyzing the current situation. With the beam starting in the top-left heading right, how many tiles end up being energized?\n",
      "\n"
     ]
    }
   ],
   "source": [
    "import requests\n",
    "from bs4 import BeautifulSoup\n",
    "\n",
    "def get_aoc_problem(day, year=2023):\n",
    "    url = f\"https://adventofcode.com/{year}/day/{day}\"\n",
    "    try:\n",
    "        response = requests.get(url)\n",
    "        response.raise_for_status()  # raises an exception for HTTP errors\n",
    "\n",
    "        soup = BeautifulSoup(response.text, 'html.parser')\n",
    "        \n",
    "        problem_text = soup.find('article').get_text()\n",
    "        return problem_text\n",
    "    except Exception as e:\n",
    "        return f\"Error fetching problem: {e}\"\n",
    "\n",
    "day = 16\n",
    "problem_prompt = get_aoc_problem(day)\n",
    "print(problem_prompt)"
   ]
  },
  {
   "cell_type": "code",
   "execution_count": 3,
   "id": "f7bb3c6f",
   "metadata": {},
   "outputs": [
    {
     "name": "stdout",
     "output_type": "stream",
     "text": [
      ".|...\\....\n",
      "|.-.\\.....\n",
      ".....|-...\n",
      "........|.\n",
      "..........\n",
      ".........\\\n",
      "..../.\\\\..\n",
      ".-.-/..|..\n",
      ".|....-|.\\\n",
      "..//.|....\n"
     ]
    }
   ],
   "source": [
    "try:\n",
    "    # Open and read the file\n",
    "    with open('test.txt', 'r') as file:\n",
    "        lines = file.read().strip().split('\\n')\n",
    "\n",
    "    # Print each line\n",
    "    for line in lines:\n",
    "        print(line)\n",
    "\n",
    "except FileNotFoundError:\n",
    "    # Specific exception for a clearer error message\n",
    "    print('Input file not found.')\n",
    "\n",
    "except Exception as e:\n",
    "    # Catch other exceptions and print the error\n",
    "    print(f'An error occurred: {e}')\n"
   ]
  },
  {
   "cell_type": "markdown",
   "id": "8bb475c2",
   "metadata": {},
   "source": [
    "### Utility functions"
   ]
  },
  {
   "cell_type": "code",
   "execution_count": 7,
   "id": "2ccebd79",
   "metadata": {},
   "outputs": [],
   "source": [
    "# set up dictionary of symbols\n",
    "\n",
    "grid = {}\n",
    "energy_grid = {}\n",
    "prev_dirs = {}\n",
    "\n",
    "for j in range(len(lines)):\n",
    "    for i in range(len(lines[0])):\n",
    "        grid[(i,j)] = lines[j][i]\n",
    "        energy_grid[(i,j)] = False\n",
    "        prev_dirs[(i,j)] = []\n",
    "\n"
   ]
  },
  {
   "cell_type": "code",
   "execution_count": 24,
   "id": "51bf42ae",
   "metadata": {},
   "outputs": [],
   "source": [
    "import numpy as np\n",
    "\n",
    "def calc_new_pos(curr, direction):\n",
    "    \"\"\" Calculate the new position and directions after 1 step \"\"\"\n",
    "\n",
    "    if grid[(curr[0],curr[1])] == '.':\n",
    "        print('encountered empty space : keep moving')\n",
    "        new_position = tuple(np.add(np.array(curr),np.array(direction)))\n",
    "\n",
    "    elif grid[(curr[0],curr[1])] == '/':\n",
    "\n",
    "        # LEFT = (-1, 0)\n",
    "        # UP = (0, -1)\n",
    "        # RIGHT = (1, 0)\n",
    "        # DOWN = (0, 1)\n",
    "\n",
    "        if direction == (1,0):\n",
    "            # RIGHT -> UP\n",
    "            new_direction = (0,-1)\n",
    "        elif direction == (0,-1):\n",
    "            # UP -> RIGHT\n",
    "            new_direction = (1,0)\n",
    "        elif direction == (-1,0):\n",
    "            new_direction = (0,1)\n",
    "            # LEFT -> DOWN\n",
    "        elif direction == (0,1):\n",
    "            # DOWN -> LEFT\n",
    "            new_direction = (-1,0)\n",
    "        else:\n",
    "            print('Error occured')\n",
    "\n",
    "        new_position = tuple(np.add(np.array(curr),np.array(new_direction)))\n",
    "        \n",
    "    elif grid[(curr[0],curr[1])] == '\\\\':\n",
    "        print('encountered a mirror : changing direction')\n",
    "\n",
    "        # LEFT = (-1, 0)\n",
    "        # UP = (0, -1)\n",
    "        # RIGHT = (1, 0)\n",
    "        # DOWN = (0, 1)\n",
    "\n",
    "        if direction == (1,0):\n",
    "            # RIGHT -> DOWN\n",
    "            new_direction = (0,1)\n",
    "        elif direction == (0,1):\n",
    "            # DOWN -> RIGHT\n",
    "            new_direction = (1,0)\n",
    "        elif direction == (-1,0):\n",
    "            new_direction = (0,-1)\n",
    "            # LEFT -> UP\n",
    "        elif direction == (0,-1):\n",
    "            # UP -> LEFT\n",
    "            new_direction = (-1,0)\n",
    "        else:\n",
    "            print('Error occured')\n",
    "\n",
    "        new_position = tuple(np.add(np.array(curr),np.array(new_direction)))\n",
    "        \n",
    "    elif grid[(curr[0],curr[1])] == '-':\n",
    "        print('encountered a splitter : splitting direction')\n",
    "\n",
    "        if direction[1] == 0:\n",
    "            new_position = tuple(np.add(np.array(curr),np.array(direction)))\n",
    "        \n",
    "\n",
    "        pass\n",
    "    elif grid[(curr[0],curr[1])] == '|':\n",
    "        print('encountered a splitter : splitting direction')\n",
    "        pass\n",
    "    else:\n",
    "        print('Something weird happened...') \n",
    "        pass\n",
    "        \n",
    "\n",
    "    \n",
    "\n",
    "    return tuple(res)"
   ]
  },
  {
   "cell_type": "code",
   "execution_count": 25,
   "id": "96a86ee2",
   "metadata": {},
   "outputs": [
    {
     "data": {
      "text/plain": [
       "(0, 1)"
      ]
     },
     "execution_count": 25,
     "metadata": {},
     "output_type": "execute_result"
    }
   ],
   "source": [
    "calc_new_pos((1,1),(-1,0))"
   ]
  },
  {
   "cell_type": "code",
   "execution_count": 11,
   "id": "1550c6cc",
   "metadata": {},
   "outputs": [],
   "source": [
    "current_cells = [(0,0)] # starting position\n",
    "current_dirs = [(1,0)] # starting by moving right\n",
    "\n",
    "next_move_stack = [(current_cells[0], current_dirs[0])]\n",
    "\n",
    "counter = 0\n",
    "\n",
    "while next_move_stack != [] and counter < 1000:\n",
    "\n",
    "    assert len(current_cells) == len(current_dir)\n",
    "\n",
    "    # execute a move for each current\n",
    "\n",
    "    for move in next_move_stack:\n",
    "        # move = (current_cell, current_dir)\n",
    "        # current_cell = (x,y) x = col, y = row\n",
    "\n",
    "        # LEFT = (-1, 0)\n",
    "        # UP = (0, -1)\n",
    "        # RIGHT = (1, 0)\n",
    "        # LEFT = (0, 1)\n",
    "\n",
    "        new_moves = calc_new_move(curr, direction)\n",
    "        # new cells = [(current_cell, current_dir),...]\n",
    "        if new_moves:\n",
    "            next_move_stack.extend(new_moves)\n",
    "\n",
    "    counter += 1\n",
    "\n",
    "\n",
    "\n",
    "\n",
    "\n",
    "\n",
    "\n"
   ]
  },
  {
   "cell_type": "code",
   "execution_count": 27,
   "id": "203d66fc",
   "metadata": {},
   "outputs": [
    {
     "name": "stdout",
     "output_type": "stream",
     "text": [
      "yes\n"
     ]
    }
   ],
   "source": [
    "if ['']:\n",
    "    print('yes')"
   ]
  },
  {
   "cell_type": "markdown",
   "id": "c592c09c",
   "metadata": {},
   "source": [
    "### Part 1"
   ]
  },
  {
   "cell_type": "code",
   "execution_count": null,
   "id": "5bf956f3",
   "metadata": {},
   "outputs": [],
   "source": []
  },
  {
   "cell_type": "markdown",
   "id": "b31d930d",
   "metadata": {},
   "source": [
    "### Part 2"
   ]
  },
  {
   "cell_type": "code",
   "execution_count": null,
   "id": "4185a862",
   "metadata": {},
   "outputs": [],
   "source": []
  }
 ],
 "metadata": {
  "kernelspec": {
   "display_name": "Python 3 (ipykernel)",
   "language": "python",
   "name": "python3"
  },
  "language_info": {
   "codemirror_mode": {
    "name": "ipython",
    "version": 3
   },
   "file_extension": ".py",
   "mimetype": "text/x-python",
   "name": "python",
   "nbconvert_exporter": "python",
   "pygments_lexer": "ipython3",
   "version": "3.11.5"
  }
 },
 "nbformat": 4,
 "nbformat_minor": 5
}
