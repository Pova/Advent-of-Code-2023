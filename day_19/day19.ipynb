{
 "cells": [
  {
   "cell_type": "markdown",
   "id": "3bf9226a",
   "metadata": {},
   "source": [
    "# Day 19"
   ]
  },
  {
   "cell_type": "code",
   "execution_count": 1,
   "id": "96191d86",
   "metadata": {},
   "outputs": [
    {
     "name": "stdout",
     "output_type": "stream",
     "text": [
      "--- Day 19: Aplenty ---The Elves of Gear Island are thankful for your help and send you on your way. They even have a hang glider that someone stole from Desert Island; since you're already going that direction, it would help them a lot if you would use it to get down there and return it to them.\n",
      "As you reach the bottom of the relentless avalanche of machine parts, you discover that they're already forming a formidable heap. Don't worry, though - a group of Elves is already here organizing the parts, and they have a system.\n",
      "To start, each part is rated in each of four categories:\n",
      "\n",
      "x: Extremely cool looking\n",
      "m: Musical (it makes a noise when you hit it)\n",
      "a: Aerodynamic\n",
      "s: Shiny\n",
      "\n",
      "Then, each part is sent through a series of workflows that will ultimately accept or reject the part. Each workflow has a name and contains a list of rules; each rule specifies a condition and where to send the part if the condition is true. The first rule that matches the part being considered is applied immediately, and the part moves on to the destination described by the rule. (The last rule in each workflow has no condition and always applies if reached.)\n",
      "Consider the workflow ex{x>10:one,m<20:two,a>30:R,A}. This workflow is named ex and contains four rules. If workflow ex were considering a specific part, it would perform the following steps in order:\n",
      "\n",
      "Rule \"x>10:one\": If the part's x is more than 10, send the part to the workflow named one.\n",
      "Rule \"m<20:two\": Otherwise, if the part's m is less than 20, send the part to the workflow named two.\n",
      "Rule \"a>30:R\": Otherwise, if the part's a is more than 30, the part is immediately rejected (R).\n",
      "Rule \"A\": Otherwise, because no other rules matched the part, the part is immediately accepted (A).\n",
      "\n",
      "If a part is sent to another workflow, it immediately switches to the start of that workflow instead and never returns. If a part is accepted (sent to A) or rejected (sent to R), the part immediately stops any further processing.\n",
      "The system works, but it's not keeping up with the torrent of weird metal shapes. The Elves ask if you can help sort a few parts and give you the list of workflows and some part ratings (your puzzle input). For example:\n",
      "px{a<2006:qkq,m>2090:A,rfg}\n",
      "pv{a>1716:R,A}\n",
      "lnx{m>1548:A,A}\n",
      "rfg{s<537:gd,x>2440:R,A}\n",
      "qs{s>3448:A,lnx}\n",
      "qkq{x<1416:A,crn}\n",
      "crn{x>2662:A,R}\n",
      "in{s<1351:px,qqz}\n",
      "qqz{s>2770:qs,m<1801:hdj,R}\n",
      "gd{a>3333:R,R}\n",
      "hdj{m>838:A,pv}\n",
      "\n",
      "{x=787,m=2655,a=1222,s=2876}\n",
      "{x=1679,m=44,a=2067,s=496}\n",
      "{x=2036,m=264,a=79,s=2244}\n",
      "{x=2461,m=1339,a=466,s=291}\n",
      "{x=2127,m=1623,a=2188,s=1013}\n",
      "\n",
      "The workflows are listed first, followed by a blank line, then the ratings of the parts the Elves would like you to sort. All parts begin in the workflow named in. In this example, the five listed parts go through the following workflows:\n",
      "\n",
      "{x=787,m=2655,a=1222,s=2876}: in -> qqz -> qs -> lnx -> A\n",
      "{x=1679,m=44,a=2067,s=496}: in -> px -> rfg -> gd -> R\n",
      "{x=2036,m=264,a=79,s=2244}: in -> qqz -> hdj -> pv -> A\n",
      "{x=2461,m=1339,a=466,s=291}: in -> px -> qkq -> crn -> R\n",
      "{x=2127,m=1623,a=2188,s=1013}: in -> px -> rfg -> A\n",
      "\n",
      "Ultimately, three parts are accepted. Adding up the x, m, a, and s rating for each of the accepted parts gives 7540 for the part with x=787, 4623 for the part with x=2036, and 6951 for the part with x=2127. Adding all of the ratings for all of the accepted parts gives the sum total of 19114.\n",
      "Sort through all of the parts you've been given; what do you get if you add together all of the rating numbers for all of the parts that ultimately get accepted?\n",
      "\n"
     ]
    }
   ],
   "source": [
    "import requests\n",
    "from bs4 import BeautifulSoup\n",
    "\n",
    "def get_aoc_problem(day, year=2023):\n",
    "    url = f\"https://adventofcode.com/{year}/day/{day}\"\n",
    "    try:\n",
    "        response = requests.get(url)\n",
    "        response.raise_for_status()  # raises an exception for HTTP errors\n",
    "\n",
    "        soup = BeautifulSoup(response.text, 'html.parser')\n",
    "        \n",
    "        problem_text = soup.find('article').get_text()\n",
    "        return problem_text\n",
    "    except Exception as e:\n",
    "        return f\"Error fetching problem: {e}\"\n",
    "\n",
    "day = 19\n",
    "problem_prompt = get_aoc_problem(day)\n",
    "print(problem_prompt)"
   ]
  },
  {
   "cell_type": "code",
   "execution_count": null,
   "id": "f7bb3c6f",
   "metadata": {},
   "outputs": [],
   "source": [
    "try:\n",
    "    # Open and read the file\n",
    "    with open('input.txt', 'r') as file:\n",
    "        lines = file.read().strip().split('\\n')\n",
    "\n",
    "    # Print each line\n",
    "    for line in lines:\n",
    "        print(line)\n",
    "\n",
    "except FileNotFoundError:\n",
    "    # Specific exception for a clearer error message\n",
    "    print('Input file not found.')\n",
    "\n",
    "except Exception as e:\n",
    "    # Catch other exceptions and print the error\n",
    "    print(f'An error occurred: {e}')\n"
   ]
  },
  {
   "cell_type": "markdown",
   "id": "8bb475c2",
   "metadata": {},
   "source": [
    "### Utility functions"
   ]
  },
  {
   "cell_type": "code",
   "execution_count": null,
   "id": "2ccebd79",
   "metadata": {},
   "outputs": [],
   "source": []
  },
  {
   "cell_type": "markdown",
   "id": "c592c09c",
   "metadata": {},
   "source": [
    "### Part 1"
   ]
  },
  {
   "cell_type": "code",
   "execution_count": null,
   "id": "5bf956f3",
   "metadata": {},
   "outputs": [],
   "source": []
  },
  {
   "cell_type": "markdown",
   "id": "b31d930d",
   "metadata": {},
   "source": [
    "### Part 2"
   ]
  },
  {
   "cell_type": "code",
   "execution_count": null,
   "id": "4185a862",
   "metadata": {},
   "outputs": [],
   "source": []
  }
 ],
 "metadata": {
  "kernelspec": {
   "display_name": "Python 3 (ipykernel)",
   "language": "python",
   "name": "python3"
  },
  "language_info": {
   "codemirror_mode": {
    "name": "ipython",
    "version": 3
   },
   "file_extension": ".py",
   "mimetype": "text/x-python",
   "name": "python",
   "nbconvert_exporter": "python",
   "pygments_lexer": "ipython3",
   "version": "3.11.5"
  }
 },
 "nbformat": 4,
 "nbformat_minor": 5
}
