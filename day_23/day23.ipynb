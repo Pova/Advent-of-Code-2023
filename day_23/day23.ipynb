{
 "cells": [
  {
   "cell_type": "code",
   "execution_count": 1,
   "id": "f7bb3c6f",
   "metadata": {},
   "outputs": [
    {
     "name": "stdout",
     "output_type": "stream",
     "text": [
      "Input file not found.\n"
     ]
    }
   ],
   "source": [
    "try:\n",
    "    # Open and read the file\n",
    "    with open('input.txt', 'r') as file:\n",
    "        lines = file.read().strip().split('\\n')\n",
    "\n",
    "    # Print each line\n",
    "    for line in lines:\n",
    "        print(line)\n",
    "\n",
    "except FileNotFoundError:\n",
    "    # Specific exception for a clearer error message\n",
    "    print('Input file not found.')\n",
    "\n",
    "except Exception as e:\n",
    "    # Catch other exceptions and print the error\n",
    "    print(f'An error occurred: {e}')\n"
   ]
  },
  {
   "cell_type": "markdown",
   "id": "8bb475c2",
   "metadata": {},
   "source": [
    "### Utility functions"
   ]
  },
  {
   "cell_type": "code",
   "execution_count": null,
   "id": "2ccebd79",
   "metadata": {},
   "outputs": [],
   "source": []
  },
  {
   "cell_type": "markdown",
   "id": "c592c09c",
   "metadata": {},
   "source": [
    "### Part 1"
   ]
  },
  {
   "cell_type": "code",
   "execution_count": null,
   "id": "5bf956f3",
   "metadata": {},
   "outputs": [],
   "source": []
  },
  {
   "cell_type": "markdown",
   "id": "b31d930d",
   "metadata": {},
   "source": [
    "### Part 2"
   ]
  },
  {
   "cell_type": "code",
   "execution_count": null,
   "id": "4185a862",
   "metadata": {},
   "outputs": [],
   "source": []
  }
 ],
 "metadata": {
  "kernelspec": {
   "display_name": "Python 3 (ipykernel)",
   "language": "python",
   "name": "python3"
  },
  "language_info": {
   "codemirror_mode": {
    "name": "ipython",
    "version": 3
   },
   "file_extension": ".py",
   "mimetype": "text/x-python",
   "name": "python",
   "nbconvert_exporter": "python",
   "pygments_lexer": "ipython3",
   "version": "3.11.2"
  }
 },
 "nbformat": 4,
 "nbformat_minor": 5
}
