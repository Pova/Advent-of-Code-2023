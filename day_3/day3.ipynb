{
 "cells": [
  {
   "cell_type": "markdown",
   "id": "bf6ac86b",
   "metadata": {},
   "source": [
    "# Day 3"
   ]
  },
  {
   "cell_type": "code",
   "execution_count": 2,
   "id": "30975e00",
   "metadata": {},
   "outputs": [
    {
     "name": "stdout",
     "output_type": "stream",
     "text": [
      "--- Day 3: Gear Ratios ---You and the Elf eventually reach a gondola lift station; he says the gondola lift will take you up to the water source, but this is as far as he can bring you. You go inside.\n",
      "It doesn't take long to find the gondolas, but there seems to be a problem: they're not moving.\n",
      "\"Aaah!\"\n",
      "You turn around to see a slightly-greasy Elf with a wrench and a look of surprise. \"Sorry, I wasn't expecting anyone! The gondola lift isn't working right now; it'll still be a while before I can fix it.\" You offer to help.\n",
      "The engineer explains that an engine part seems to be missing from the engine, but nobody can figure out which one. If you can add up all the part numbers in the engine schematic, it should be easy to work out which part is missing.\n",
      "The engine schematic (your puzzle input) consists of a visual representation of the engine. There are lots of numbers and symbols you don't really understand, but apparently any number adjacent to a symbol, even diagonally, is a \"part number\" and should be included in your sum. (Periods (.) do not count as a symbol.)\n",
      "Here is an example engine schematic:\n",
      "467..114..\n",
      "...*......\n",
      "..35..633.\n",
      "......#...\n",
      "617*......\n",
      ".....+.58.\n",
      "..592.....\n",
      "......755.\n",
      "...$.*....\n",
      ".664.598..\n",
      "\n",
      "In this schematic, two numbers are not part numbers because they are not adjacent to a symbol: 114 (top right) and 58 (middle right). Every other number is adjacent to a symbol and so is a part number; their sum is 4361.\n",
      "Of course, the actual engine schematic is much larger. What is the sum of all of the part numbers in the engine schematic?\n",
      "\n"
     ]
    }
   ],
   "source": [
    "import requests\n",
    "from bs4 import BeautifulSoup\n",
    "\n",
    "def get_aoc_problem(day, year=2023):\n",
    "    url = f\"https://adventofcode.com/{year}/day/{day}\"\n",
    "    try:\n",
    "        response = requests.get(url)\n",
    "        response.raise_for_status()  # raises an exception for HTTP errors\n",
    "\n",
    "        soup = BeautifulSoup(response.text, 'html.parser')\n",
    "        \n",
    "        # Assuming problem text is within an article tag (this might change)\n",
    "        problem_text = soup.find('article').get_text()\n",
    "        return problem_text\n",
    "    except Exception as e:\n",
    "        return f\"Error fetching problem: {e}\"\n",
    "\n",
    "day = 3\n",
    "problem_prompt = get_aoc_problem(day)\n",
    "print(problem_prompt)"
   ]
  },
  {
   "cell_type": "code",
   "execution_count": 48,
   "id": "f7bb3c6f",
   "metadata": {},
   "outputs": [
    {
     "name": "stdout",
     "output_type": "stream",
     "text": [
      "467..114..\n",
      "...*......\n",
      "..35..633.\n",
      "......#...\n",
      "617*......\n",
      ".....+.58.\n",
      "..592.....\n",
      "......755.\n",
      "...$.*....\n",
      ".664.598..\n"
     ]
    }
   ],
   "source": [
    "with open('test.txt') as f:\n",
    "    data = f.read()\n",
    "    \n",
    "lines = data.split('\\n')[:-1]\n",
    "\n",
    "for line in lines: \n",
    "    print(line)"
   ]
  },
  {
   "cell_type": "markdown",
   "id": "8bb475c2",
   "metadata": {},
   "source": [
    "### Utility functions"
   ]
  },
  {
   "cell_type": "code",
   "execution_count": 2,
   "id": "049cdf90",
   "metadata": {},
   "outputs": [],
   "source": [
    "def number_scanner(lines, number_locations, symbol_locations):\n",
    "    '''\n",
    "    lines is the input from the puzzle\n",
    "    \n",
    "    number_locations is a dictionary { key = (x,y) : digit }\n",
    "    \n",
    "    Indexing looks like:\n",
    "    \n",
    "    (0,0), (1,0), (2,0), (3,0), (4,0)\n",
    "    (0,1), (1,1), (2,1), (3,1), (4,1)\n",
    "    (0,2), (1,2), (2,2), (3,2), (4,2)\n",
    "    (0,3), (1,3), (2,3), (3,3), (4,3)\n",
    "    (0,4), (1,4), (2,4), (3,4), (4,4)\n",
    "    \n",
    "    returns:\n",
    "    \n",
    "    updated number locations\n",
    "    '''\n",
    "    \n",
    "    for line_num in range(len(lines)):\n",
    "        for pos_num in range(len(lines[0])):\n",
    "            \n",
    "            if lines[line_num][pos_num].isnumeric():\n",
    "                number_locations[(pos_num, line_num)] = int(lines[line_num][pos_num])\n",
    "            elif lines[line_num][pos_num] != '.':\n",
    "                symbol_locations[(pos_num, line_num)] = lines[line_num][pos_num]\n",
    "    \n",
    "    return number_locations, symbol_locations"
   ]
  },
  {
   "cell_type": "code",
   "execution_count": 56,
   "id": "d49e2cb6",
   "metadata": {},
   "outputs": [],
   "source": [
    "def sum_constructor(number_locations, symbol_locations):\n",
    "    '''\n",
    "    input is :\n",
    "    \n",
    "    number_locations - dictionary { key = (x,y) : digit }\n",
    "    number_total - integer (current sum of all numbers)\n",
    "    \n",
    "    returns updated number_total\n",
    "    \n",
    "    '''\n",
    "    number_total = 0\n",
    "    \n",
    "    indices_to_check = list(number_locations.keys())\n",
    "    # print(indices_to_check)\n",
    "\n",
    "    prev_index = (0,-1)\n",
    "    number_str = \"\"\n",
    "    \n",
    "    for index in indices_to_check:\n",
    "        \n",
    "        # print(f'current index = {index}')\n",
    "                \n",
    "        if (index[0] - prev_index[0], index[1] - prev_index[1]) == (1, 0):\n",
    "            # print(f\"Indices {prev_index} and {index} are adjacent\")\n",
    "            number_str += str(number_locations[index])\n",
    "        else:\n",
    "            # print(f\"Indices {prev_index} and {index} are not adjacent\")\n",
    "            if number_str != '':\n",
    "                if check_number_radius(prev_index, number_str, symbol_locations):\n",
    "                    # True --> add the number (has a symbol)\n",
    "                    for i in range(len(number_str)):\n",
    "                        number_locations_full[(prev_index[0]-i, prev_index[1])] = int(number_str)\n",
    "                    number_total += int(number_str)\n",
    "                    print(f'updated total = {number_total}')\n",
    "                else:\n",
    "                    print(f'updated total = {number_total}')\n",
    "            \n",
    "            # resets number string\n",
    "            number_str = str(number_locations[index])\n",
    "            \n",
    "        prev_index = index\n",
    "        # print(f'current number_total = {number_total}')\n",
    "    \n",
    "    print('last additions:')\n",
    "    \n",
    "    if check_number_radius(prev_index, number_str, symbol_locations):\n",
    "        # True --> add the number (has a symbol)\n",
    "        # print(f'number: {number_str} has an adjacent symbol... adding to total')\n",
    "        number_total += int(number_str)\n",
    "        print(f'updated total = {number_total}')\n",
    "    else:\n",
    "        pass\n",
    "        print(f'number: {number_str} has NO adjacent symbols... NOT adding to total')\n",
    "        print(f'updated total = {number_total}')\n",
    "    \n",
    "    \n",
    "    # print(f'number_total = {number_total}') \n",
    "            \n",
    "    return number_total"
   ]
  },
  {
   "cell_type": "code",
   "execution_count": 42,
   "id": "917b473e",
   "metadata": {},
   "outputs": [],
   "source": [
    "def check_number_radius(index, number_str, symbol_locations):\n",
    "    \n",
    "    num_len = len(number_str)\n",
    "    \n",
    "    min_x = max(0, index[0] - len(number_str))\n",
    "    max_x = min(index[0] + 1, len(lines[0]) - 1)\n",
    "                \n",
    "    min_y = max(0, index[1] - 1)\n",
    "    max_y = min(index[1] + 1, len(lines) - 1)\n",
    "    \n",
    "    for y in [min_y, max_y]:\n",
    "        for x in range(min_x, max_x+1):\n",
    "            if (x,y) in symbol_locations.keys():\n",
    "                return True\n",
    "    \n",
    "    if max_y-min_y == 2:\n",
    "        # check middle\n",
    "        for x in [min_x,max_x]:\n",
    "            if (x,min_y+1) in symbol_locations.keys():\n",
    "                return True\n",
    "        \n",
    "    return False"
   ]
  },
  {
   "cell_type": "markdown",
   "id": "c592c09c",
   "metadata": {},
   "source": [
    "### Part 1"
   ]
  },
  {
   "cell_type": "code",
   "execution_count": 58,
   "id": "769b7624",
   "metadata": {},
   "outputs": [
    {
     "name": "stdout",
     "output_type": "stream",
     "text": [
      "updated total = 467\n",
      "updated total = 467\n",
      "updated total = 502\n",
      "updated total = 1135\n",
      "updated total = 1752\n",
      "updated total = 1752\n",
      "updated total = 2344\n",
      "updated total = 3099\n",
      "updated total = 3763\n",
      "last additions:\n",
      "updated total = 4361\n",
      "Final sum = 4361\n"
     ]
    }
   ],
   "source": [
    "number_locations = {}\n",
    "number_locations_full = {}\n",
    "symbol_locations = {}\n",
    "number_total = 0\n",
    "\n",
    "number_locations, symbol_locations = number_scanner(lines, number_locations, symbol_locations)\n",
    "\n",
    "print(f'Final sum = {sum_constructor(number_locations, symbol_locations)}')"
   ]
  },
  {
   "cell_type": "markdown",
   "id": "b31d930d",
   "metadata": {},
   "source": [
    "### Part 2"
   ]
  },
  {
   "cell_type": "code",
   "execution_count": 55,
   "id": "d6926f7c",
   "metadata": {},
   "outputs": [
    {
     "name": "stdout",
     "output_type": "stream",
     "text": [
      "found a star at: (3, 1)\n",
      "exactly 1 number on row\n",
      "exactly 1 number on row\n",
      "number count = 2\n",
      "* at index (3, 1) is a gear piece!\n",
      "found a star at: (3, 4)\n",
      "exactly 0 numbers on row\n",
      "exactly 0 numbers on row\n",
      "number count = 1\n",
      "found a star at: (5, 8)\n",
      "exactly 1 number on row\n",
      "exactly 1 number on row\n",
      "number count = 2\n",
      "* at index (5, 8) is a gear piece!\n"
     ]
    }
   ],
   "source": [
    "for index in symbol_locations.keys():\n",
    "    if symbol_locations[index] == '*':\n",
    "        number_count = 0\n",
    "        \n",
    "        print(f'found a star at: {index}')\n",
    "        \n",
    "        indices_to_check = []\n",
    "        \n",
    "        min_x = max(0, index[0] - 1)\n",
    "        max_x = min(index[0] + 1, len(lines[0]) - 1)\n",
    "\n",
    "        min_y = max(0, index[1] - 1)\n",
    "        max_y = min(index[1] + 1, len(lines) - 1)\n",
    "        \n",
    "        for y in [min_y, max_y]:\n",
    "            line_count = 0\n",
    "            for x in range(min_x, max_x+1):\n",
    "                if (x,y) in number_locations.keys():\n",
    "                    line_count += 1\n",
    "                    indices_to_check.append((x,y))\n",
    "                    \n",
    "            if line_count == 1 or line_count == 3:\n",
    "                print('exactly 1 number on row')\n",
    "                number_count += 1\n",
    "            elif line_count == 2 and (index[0], y) not in indices_to_check:\n",
    "                print('exactly 2 numbers on row')\n",
    "                number_count += 2\n",
    "            elif line_count == 2 and (index[0], y) in indices_to_check:\n",
    "                print('exactly 1 number on row')\n",
    "                number_count += 1\n",
    "            else:\n",
    "                print('exactly 0 numbers on row')\n",
    "                number_count += 0\n",
    "                \n",
    "                \n",
    "        if max_y - min_y == 2:\n",
    "            for x in [min_x, max_x]:\n",
    "                if (x, min_y + 1) in number_locations.keys():\n",
    "                    number_count += 1\n",
    "        print(f'number count = {number_count}')            \n",
    "        if number_count == 2:\n",
    "            \n",
    "            print(f'* at index {index} is a gear piece!')\n",
    "                \n",
    "                \n",
    "        # print(f'indices to check: {indices_to_check} next to * at {index}')"
   ]
  },
  {
   "cell_type": "code",
   "execution_count": null,
   "id": "4185a862",
   "metadata": {},
   "outputs": [],
   "source": []
  }
 ],
 "metadata": {
  "kernelspec": {
   "display_name": "Python 3 (ipykernel)",
   "language": "python",
   "name": "python3"
  },
  "language_info": {
   "codemirror_mode": {
    "name": "ipython",
    "version": 3
   },
   "file_extension": ".py",
   "mimetype": "text/x-python",
   "name": "python",
   "nbconvert_exporter": "python",
   "pygments_lexer": "ipython3",
   "version": "3.11.2"
  }
 },
 "nbformat": 4,
 "nbformat_minor": 5
}
